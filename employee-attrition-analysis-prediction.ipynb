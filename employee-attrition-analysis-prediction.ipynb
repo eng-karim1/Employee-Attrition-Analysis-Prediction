{
 "cells": [
  {
   "cell_type": "markdown",
   "id": "4b897d91",
   "metadata": {
    "_cell_guid": "b1076dfc-b9ad-4769-8c92-a6c4dae69d19",
    "_uuid": "8f2839f25d086af736a60e9eeb907d3b93b6e0e5",
    "execution": {
     "iopub.execute_input": "2025-02-10T21:38:44.761215Z",
     "iopub.status.busy": "2025-02-10T21:38:44.760874Z",
     "iopub.status.idle": "2025-02-10T21:38:44.773236Z",
     "shell.execute_reply": "2025-02-10T21:38:44.771085Z",
     "shell.execute_reply.started": "2025-02-10T21:38:44.761186Z"
    },
    "papermill": {
     "duration": 0.006789,
     "end_time": "2025-02-10T23:05:24.180431",
     "exception": false,
     "start_time": "2025-02-10T23:05:24.173642",
     "status": "completed"
    },
    "tags": []
   },
   "source": [
    "# 📊 Employee Attrition Analysis & Prediction\n",
    "\n",
    "## 📌 Project Overview\n",
    "This project aims to analyze and predict **employee attrition** using machine learning techniques. We explore key factors influencing employee turnover and build a classification model to predict whether an employee is likely to leave the organization.\n",
    "\n",
    "## Dataset\n",
    "The dataset used in this project is the **IBM HR Analytics Employee Attrition Dataset**, which contains various employee-related attributes such as **age, job role, salary, work-life balance, and job satisfaction**.\n",
    "\n",
    "## Objectives\n",
    "- Perform **Exploratory Data Analysis (EDA)** to identify key trends and patterns.\n",
    "- Build a **classification model** to predict employee attrition.\n",
    "- Analyze **feature importance** to understand what factors contribute most to employee turnover.\n",
    "- Provide **business insights** to help organizations retain valuable employees.\n",
    "\n",
    "## 📊 Data Analysis & Insights\n",
    "✔️ **Visualized attrition distribution** among employees.  \n",
    "✔️ Identified key factors like **monthly income, job satisfaction, and work-life balance** that influence attrition.  \n",
    "✔️ Analyzed trends using **boxplots** and **correlation heatmaps**.  \n",
    "\n",
    "## Model Used\n",
    "We trained an **XGBoost Classifier**, a powerful **gradient-boosting algorithm**, achieving **high accuracy** in predicting employee attrition. The **confusion matrix** and **classification report** were used to evaluate model performance.\n",
    "\n",
    "## Key Findings\n",
    "✅ **Employees with lower salaries are more likely to leave.**  \n",
    "✅ **Low job satisfaction is a major reason for employee attrition.**  \n",
    "✅ **Work-life balance plays a crucial role in retention.**  \n",
    "\n",
    "\n",
    "## Conclusion\n",
    "This project provides valuable insights into **employee attrition** and helps organizations take **data-driven actions** to reduce turnover rates. 📉\n",
    "\n",
    "\n",
    "\n",
    "#### -----------------------------------------------------------------------\n"
   ]
  },
  {
   "cell_type": "markdown",
   "id": "100aa1ec",
   "metadata": {
    "execution": {
     "iopub.execute_input": "2025-02-10T21:44:08.061171Z",
     "iopub.status.busy": "2025-02-10T21:44:08.060765Z",
     "iopub.status.idle": "2025-02-10T21:44:08.066430Z",
     "shell.execute_reply": "2025-02-10T21:44:08.064504Z",
     "shell.execute_reply.started": "2025-02-10T21:44:08.061143Z"
    },
    "papermill": {
     "duration": 0.01094,
     "end_time": "2025-02-10T23:05:24.198124",
     "exception": false,
     "start_time": "2025-02-10T23:05:24.187184",
     "status": "completed"
    },
    "tags": []
   },
   "source": [
    "# Employee Attrition Analysis"
   ]
  },
  {
   "cell_type": "markdown",
   "id": "521fedcc",
   "metadata": {
    "execution": {
     "iopub.execute_input": "2025-02-10T21:49:14.022032Z",
     "iopub.status.busy": "2025-02-10T21:49:14.021613Z",
     "iopub.status.idle": "2025-02-10T21:49:14.026290Z",
     "shell.execute_reply": "2025-02-10T21:49:14.025153Z",
     "shell.execute_reply.started": "2025-02-10T21:49:14.022001Z"
    },
    "papermill": {
     "duration": 0.004227,
     "end_time": "2025-02-10T23:05:24.207612",
     "exception": false,
     "start_time": "2025-02-10T23:05:24.203385",
     "status": "completed"
    },
    "tags": []
   },
   "source": [
    "## 1. Importing libraries and dataset"
   ]
  },
  {
   "cell_type": "code",
   "execution_count": 1,
   "id": "257e7103",
   "metadata": {
    "execution": {
     "iopub.execute_input": "2025-02-10T23:05:24.217912Z",
     "iopub.status.busy": "2025-02-10T23:05:24.217603Z",
     "iopub.status.idle": "2025-02-10T23:05:27.814892Z",
     "shell.execute_reply": "2025-02-10T23:05:27.813763Z"
    },
    "papermill": {
     "duration": 3.604538,
     "end_time": "2025-02-10T23:05:27.816712",
     "exception": false,
     "start_time": "2025-02-10T23:05:24.212174",
     "status": "completed"
    },
    "tags": []
   },
   "outputs": [],
   "source": [
    "import pandas as pd\n",
    "import seaborn as sns\n",
    "import matplotlib.pyplot as plt\n",
    "from sklearn.model_selection import train_test_split\n",
    "from sklearn.preprocessing import LabelEncoder, StandardScaler\n",
    "from xgboost import XGBClassifier\n",
    "from sklearn.metrics import classification_report, accuracy_score, confusion_matrix"
   ]
  },
  {
   "cell_type": "code",
   "execution_count": 2,
   "id": "96f998a0",
   "metadata": {
    "execution": {
     "iopub.execute_input": "2025-02-10T23:05:27.827097Z",
     "iopub.status.busy": "2025-02-10T23:05:27.826626Z",
     "iopub.status.idle": "2025-02-10T23:05:27.858780Z",
     "shell.execute_reply": "2025-02-10T23:05:27.857949Z"
    },
    "papermill": {
     "duration": 0.038797,
     "end_time": "2025-02-10T23:05:27.860338",
     "exception": false,
     "start_time": "2025-02-10T23:05:27.821541",
     "status": "completed"
    },
    "tags": []
   },
   "outputs": [],
   "source": [
    "# Load data\n",
    "data_path = '/kaggle/input/employee-attrition/HR-Employee-Attrition.csv'\n",
    "df = pd.read_csv(data_path)"
   ]
  },
  {
   "cell_type": "markdown",
   "id": "81881ce7",
   "metadata": {
    "papermill": {
     "duration": 0.004086,
     "end_time": "2025-02-10T23:05:27.869185",
     "exception": false,
     "start_time": "2025-02-10T23:05:27.865099",
     "status": "completed"
    },
    "tags": []
   },
   "source": [
    "## 2. Data Overview"
   ]
  },
  {
   "cell_type": "code",
   "execution_count": 3,
   "id": "30f0ef44",
   "metadata": {
    "execution": {
     "iopub.execute_input": "2025-02-10T23:05:27.878948Z",
     "iopub.status.busy": "2025-02-10T23:05:27.878612Z",
     "iopub.status.idle": "2025-02-10T23:05:27.915926Z",
     "shell.execute_reply": "2025-02-10T23:05:27.915069Z"
    },
    "papermill": {
     "duration": 0.043685,
     "end_time": "2025-02-10T23:05:27.917176",
     "exception": false,
     "start_time": "2025-02-10T23:05:27.873491",
     "status": "completed"
    },
    "tags": []
   },
   "outputs": [
    {
     "name": "stdout",
     "output_type": "stream",
     "text": [
      "<class 'pandas.core.frame.DataFrame'>\n",
      "RangeIndex: 1470 entries, 0 to 1469\n",
      "Data columns (total 35 columns):\n",
      " #   Column                    Non-Null Count  Dtype \n",
      "---  ------                    --------------  ----- \n",
      " 0   Age                       1470 non-null   int64 \n",
      " 1   Attrition                 1470 non-null   object\n",
      " 2   BusinessTravel            1470 non-null   object\n",
      " 3   DailyRate                 1470 non-null   int64 \n",
      " 4   Department                1470 non-null   object\n",
      " 5   DistanceFromHome          1470 non-null   int64 \n",
      " 6   Education                 1470 non-null   int64 \n",
      " 7   EducationField            1470 non-null   object\n",
      " 8   EmployeeCount             1470 non-null   int64 \n",
      " 9   EmployeeNumber            1470 non-null   int64 \n",
      " 10  EnvironmentSatisfaction   1470 non-null   int64 \n",
      " 11  Gender                    1470 non-null   object\n",
      " 12  HourlyRate                1470 non-null   int64 \n",
      " 13  JobInvolvement            1470 non-null   int64 \n",
      " 14  JobLevel                  1470 non-null   int64 \n",
      " 15  JobRole                   1470 non-null   object\n",
      " 16  JobSatisfaction           1470 non-null   int64 \n",
      " 17  MaritalStatus             1470 non-null   object\n",
      " 18  MonthlyIncome             1470 non-null   int64 \n",
      " 19  MonthlyRate               1470 non-null   int64 \n",
      " 20  NumCompaniesWorked        1470 non-null   int64 \n",
      " 21  Over18                    1470 non-null   object\n",
      " 22  OverTime                  1470 non-null   object\n",
      " 23  PercentSalaryHike         1470 non-null   int64 \n",
      " 24  PerformanceRating         1470 non-null   int64 \n",
      " 25  RelationshipSatisfaction  1470 non-null   int64 \n",
      " 26  StandardHours             1470 non-null   int64 \n",
      " 27  StockOptionLevel          1470 non-null   int64 \n",
      " 28  TotalWorkingYears         1470 non-null   int64 \n",
      " 29  TrainingTimesLastYear     1470 non-null   int64 \n",
      " 30  WorkLifeBalance           1470 non-null   int64 \n",
      " 31  YearsAtCompany            1470 non-null   int64 \n",
      " 32  YearsInCurrentRole        1470 non-null   int64 \n",
      " 33  YearsSinceLastPromotion   1470 non-null   int64 \n",
      " 34  YearsWithCurrManager      1470 non-null   int64 \n",
      "dtypes: int64(26), object(9)\n",
      "memory usage: 402.1+ KB\n"
     ]
    }
   ],
   "source": [
    "# Overview of the data\n",
    "df.info()"
   ]
  },
  {
   "cell_type": "code",
   "execution_count": 4,
   "id": "175cab87",
   "metadata": {
    "execution": {
     "iopub.execute_input": "2025-02-10T23:05:27.927440Z",
     "iopub.status.busy": "2025-02-10T23:05:27.927090Z",
     "iopub.status.idle": "2025-02-10T23:05:27.952617Z",
     "shell.execute_reply": "2025-02-10T23:05:27.951635Z"
    },
    "papermill": {
     "duration": 0.03201,
     "end_time": "2025-02-10T23:05:27.953887",
     "exception": false,
     "start_time": "2025-02-10T23:05:27.921877",
     "status": "completed"
    },
    "tags": []
   },
   "outputs": [
    {
     "data": {
      "text/html": [
       "<div>\n",
       "<style scoped>\n",
       "    .dataframe tbody tr th:only-of-type {\n",
       "        vertical-align: middle;\n",
       "    }\n",
       "\n",
       "    .dataframe tbody tr th {\n",
       "        vertical-align: top;\n",
       "    }\n",
       "\n",
       "    .dataframe thead th {\n",
       "        text-align: right;\n",
       "    }\n",
       "</style>\n",
       "<table border=\"1\" class=\"dataframe\">\n",
       "  <thead>\n",
       "    <tr style=\"text-align: right;\">\n",
       "      <th></th>\n",
       "      <th>Age</th>\n",
       "      <th>Attrition</th>\n",
       "      <th>BusinessTravel</th>\n",
       "      <th>DailyRate</th>\n",
       "      <th>Department</th>\n",
       "      <th>DistanceFromHome</th>\n",
       "      <th>Education</th>\n",
       "      <th>EducationField</th>\n",
       "      <th>EmployeeCount</th>\n",
       "      <th>EmployeeNumber</th>\n",
       "      <th>...</th>\n",
       "      <th>RelationshipSatisfaction</th>\n",
       "      <th>StandardHours</th>\n",
       "      <th>StockOptionLevel</th>\n",
       "      <th>TotalWorkingYears</th>\n",
       "      <th>TrainingTimesLastYear</th>\n",
       "      <th>WorkLifeBalance</th>\n",
       "      <th>YearsAtCompany</th>\n",
       "      <th>YearsInCurrentRole</th>\n",
       "      <th>YearsSinceLastPromotion</th>\n",
       "      <th>YearsWithCurrManager</th>\n",
       "    </tr>\n",
       "  </thead>\n",
       "  <tbody>\n",
       "    <tr>\n",
       "      <th>0</th>\n",
       "      <td>41</td>\n",
       "      <td>Yes</td>\n",
       "      <td>Travel_Rarely</td>\n",
       "      <td>1102</td>\n",
       "      <td>Sales</td>\n",
       "      <td>1</td>\n",
       "      <td>2</td>\n",
       "      <td>Life Sciences</td>\n",
       "      <td>1</td>\n",
       "      <td>1</td>\n",
       "      <td>...</td>\n",
       "      <td>1</td>\n",
       "      <td>80</td>\n",
       "      <td>0</td>\n",
       "      <td>8</td>\n",
       "      <td>0</td>\n",
       "      <td>1</td>\n",
       "      <td>6</td>\n",
       "      <td>4</td>\n",
       "      <td>0</td>\n",
       "      <td>5</td>\n",
       "    </tr>\n",
       "    <tr>\n",
       "      <th>1</th>\n",
       "      <td>49</td>\n",
       "      <td>No</td>\n",
       "      <td>Travel_Frequently</td>\n",
       "      <td>279</td>\n",
       "      <td>Research &amp; Development</td>\n",
       "      <td>8</td>\n",
       "      <td>1</td>\n",
       "      <td>Life Sciences</td>\n",
       "      <td>1</td>\n",
       "      <td>2</td>\n",
       "      <td>...</td>\n",
       "      <td>4</td>\n",
       "      <td>80</td>\n",
       "      <td>1</td>\n",
       "      <td>10</td>\n",
       "      <td>3</td>\n",
       "      <td>3</td>\n",
       "      <td>10</td>\n",
       "      <td>7</td>\n",
       "      <td>1</td>\n",
       "      <td>7</td>\n",
       "    </tr>\n",
       "    <tr>\n",
       "      <th>2</th>\n",
       "      <td>37</td>\n",
       "      <td>Yes</td>\n",
       "      <td>Travel_Rarely</td>\n",
       "      <td>1373</td>\n",
       "      <td>Research &amp; Development</td>\n",
       "      <td>2</td>\n",
       "      <td>2</td>\n",
       "      <td>Other</td>\n",
       "      <td>1</td>\n",
       "      <td>4</td>\n",
       "      <td>...</td>\n",
       "      <td>2</td>\n",
       "      <td>80</td>\n",
       "      <td>0</td>\n",
       "      <td>7</td>\n",
       "      <td>3</td>\n",
       "      <td>3</td>\n",
       "      <td>0</td>\n",
       "      <td>0</td>\n",
       "      <td>0</td>\n",
       "      <td>0</td>\n",
       "    </tr>\n",
       "    <tr>\n",
       "      <th>3</th>\n",
       "      <td>33</td>\n",
       "      <td>No</td>\n",
       "      <td>Travel_Frequently</td>\n",
       "      <td>1392</td>\n",
       "      <td>Research &amp; Development</td>\n",
       "      <td>3</td>\n",
       "      <td>4</td>\n",
       "      <td>Life Sciences</td>\n",
       "      <td>1</td>\n",
       "      <td>5</td>\n",
       "      <td>...</td>\n",
       "      <td>3</td>\n",
       "      <td>80</td>\n",
       "      <td>0</td>\n",
       "      <td>8</td>\n",
       "      <td>3</td>\n",
       "      <td>3</td>\n",
       "      <td>8</td>\n",
       "      <td>7</td>\n",
       "      <td>3</td>\n",
       "      <td>0</td>\n",
       "    </tr>\n",
       "    <tr>\n",
       "      <th>4</th>\n",
       "      <td>27</td>\n",
       "      <td>No</td>\n",
       "      <td>Travel_Rarely</td>\n",
       "      <td>591</td>\n",
       "      <td>Research &amp; Development</td>\n",
       "      <td>2</td>\n",
       "      <td>1</td>\n",
       "      <td>Medical</td>\n",
       "      <td>1</td>\n",
       "      <td>7</td>\n",
       "      <td>...</td>\n",
       "      <td>4</td>\n",
       "      <td>80</td>\n",
       "      <td>1</td>\n",
       "      <td>6</td>\n",
       "      <td>3</td>\n",
       "      <td>3</td>\n",
       "      <td>2</td>\n",
       "      <td>2</td>\n",
       "      <td>2</td>\n",
       "      <td>2</td>\n",
       "    </tr>\n",
       "  </tbody>\n",
       "</table>\n",
       "<p>5 rows × 35 columns</p>\n",
       "</div>"
      ],
      "text/plain": [
       "   Age Attrition     BusinessTravel  DailyRate              Department  \\\n",
       "0   41       Yes      Travel_Rarely       1102                   Sales   \n",
       "1   49        No  Travel_Frequently        279  Research & Development   \n",
       "2   37       Yes      Travel_Rarely       1373  Research & Development   \n",
       "3   33        No  Travel_Frequently       1392  Research & Development   \n",
       "4   27        No      Travel_Rarely        591  Research & Development   \n",
       "\n",
       "   DistanceFromHome  Education EducationField  EmployeeCount  EmployeeNumber  \\\n",
       "0                 1          2  Life Sciences              1               1   \n",
       "1                 8          1  Life Sciences              1               2   \n",
       "2                 2          2          Other              1               4   \n",
       "3                 3          4  Life Sciences              1               5   \n",
       "4                 2          1        Medical              1               7   \n",
       "\n",
       "   ...  RelationshipSatisfaction StandardHours  StockOptionLevel  \\\n",
       "0  ...                         1            80                 0   \n",
       "1  ...                         4            80                 1   \n",
       "2  ...                         2            80                 0   \n",
       "3  ...                         3            80                 0   \n",
       "4  ...                         4            80                 1   \n",
       "\n",
       "   TotalWorkingYears  TrainingTimesLastYear WorkLifeBalance  YearsAtCompany  \\\n",
       "0                  8                      0               1               6   \n",
       "1                 10                      3               3              10   \n",
       "2                  7                      3               3               0   \n",
       "3                  8                      3               3               8   \n",
       "4                  6                      3               3               2   \n",
       "\n",
       "  YearsInCurrentRole  YearsSinceLastPromotion  YearsWithCurrManager  \n",
       "0                  4                        0                     5  \n",
       "1                  7                        1                     7  \n",
       "2                  0                        0                     0  \n",
       "3                  7                        3                     0  \n",
       "4                  2                        2                     2  \n",
       "\n",
       "[5 rows x 35 columns]"
      ]
     },
     "execution_count": 4,
     "metadata": {},
     "output_type": "execute_result"
    }
   ],
   "source": [
    "df.head()"
   ]
  },
  {
   "cell_type": "markdown",
   "id": "053c6c0c",
   "metadata": {
    "papermill": {
     "duration": 0.004424,
     "end_time": "2025-02-10T23:05:27.963295",
     "exception": false,
     "start_time": "2025-02-10T23:05:27.958871",
     "status": "completed"
    },
    "tags": []
   },
   "source": [
    "## 3. Missing Values Check"
   ]
  },
  {
   "cell_type": "code",
   "execution_count": 5,
   "id": "edbf772a",
   "metadata": {
    "execution": {
     "iopub.execute_input": "2025-02-10T23:05:27.973596Z",
     "iopub.status.busy": "2025-02-10T23:05:27.973240Z",
     "iopub.status.idle": "2025-02-10T23:05:27.978660Z",
     "shell.execute_reply": "2025-02-10T23:05:27.977901Z"
    },
    "papermill": {
     "duration": 0.012029,
     "end_time": "2025-02-10T23:05:27.979814",
     "exception": false,
     "start_time": "2025-02-10T23:05:27.967785",
     "status": "completed"
    },
    "tags": []
   },
   "outputs": [
    {
     "name": "stdout",
     "output_type": "stream",
     "text": [
      "Age                         0\n",
      "Attrition                   0\n",
      "BusinessTravel              0\n",
      "DailyRate                   0\n",
      "Department                  0\n",
      "DistanceFromHome            0\n",
      "Education                   0\n",
      "EducationField              0\n",
      "EmployeeCount               0\n",
      "EmployeeNumber              0\n",
      "EnvironmentSatisfaction     0\n",
      "Gender                      0\n",
      "HourlyRate                  0\n",
      "JobInvolvement              0\n",
      "JobLevel                    0\n",
      "JobRole                     0\n",
      "JobSatisfaction             0\n",
      "MaritalStatus               0\n",
      "MonthlyIncome               0\n",
      "MonthlyRate                 0\n",
      "NumCompaniesWorked          0\n",
      "Over18                      0\n",
      "OverTime                    0\n",
      "PercentSalaryHike           0\n",
      "PerformanceRating           0\n",
      "RelationshipSatisfaction    0\n",
      "StandardHours               0\n",
      "StockOptionLevel            0\n",
      "TotalWorkingYears           0\n",
      "TrainingTimesLastYear       0\n",
      "WorkLifeBalance             0\n",
      "YearsAtCompany              0\n",
      "YearsInCurrentRole          0\n",
      "YearsSinceLastPromotion     0\n",
      "YearsWithCurrManager        0\n",
      "dtype: int64\n"
     ]
    }
   ],
   "source": [
    "print(df.isnull().sum())"
   ]
  },
  {
   "cell_type": "markdown",
   "id": "0a10ba9b",
   "metadata": {
    "papermill": {
     "duration": 0.004339,
     "end_time": "2025-02-10T23:05:27.989011",
     "exception": false,
     "start_time": "2025-02-10T23:05:27.984672",
     "status": "completed"
    },
    "tags": []
   },
   "source": [
    "## 4. Employee Attrition Distribution"
   ]
  },
  {
   "cell_type": "code",
   "execution_count": 6,
   "id": "d6c65bf5",
   "metadata": {
    "execution": {
     "iopub.execute_input": "2025-02-10T23:05:27.999695Z",
     "iopub.status.busy": "2025-02-10T23:05:27.999328Z",
     "iopub.status.idle": "2025-02-10T23:05:28.296088Z",
     "shell.execute_reply": "2025-02-10T23:05:28.294936Z"
    },
    "papermill": {
     "duration": 0.303834,
     "end_time": "2025-02-10T23:05:28.297358",
     "exception": false,
     "start_time": "2025-02-10T23:05:27.993524",
     "status": "completed"
    },
    "tags": []
   },
   "outputs": [
    {
     "data": {
      "image/png": "[encoded data removed]",
      "text/plain": [
       "<Figure size 640x480 with 1 Axes>"
      ]
     },
     "metadata": {},
     "output_type": "display_data"
    }
   ],
   "source": [
    "cat_cols = df.select_dtypes(include=['object']).columns\n",
    "df[cat_cols].nunique().sort_values().plot(kind='bar', title='Number of Categories per Categorical Feature')\n",
    "plt.show()"
   ]
  },
  {
   "cell_type": "markdown",
   "id": "f3d30ca7",
   "metadata": {
    "papermill": {
     "duration": 0.005016,
     "end_time": "2025-02-10T23:05:28.308051",
     "exception": false,
     "start_time": "2025-02-10T23:05:28.303035",
     "status": "completed"
    },
    "tags": []
   },
   "source": [
    "## 5. Visualizing attrition distribution"
   ]
  },
  {
   "cell_type": "code",
   "execution_count": 7,
   "id": "fbd4b62e",
   "metadata": {
    "execution": {
     "iopub.execute_input": "2025-02-10T23:05:28.319839Z",
     "iopub.status.busy": "2025-02-10T23:05:28.319546Z",
     "iopub.status.idle": "2025-02-10T23:05:28.429268Z",
     "shell.execute_reply": "2025-02-10T23:05:28.428437Z"
    },
    "papermill": {
     "duration": 0.117188,
     "end_time": "2025-02-10T23:05:28.430478",
     "exception": false,
     "start_time": "2025-02-10T23:05:28.313290",
     "status": "completed"
    },
    "tags": []
   },
   "outputs": [
    {
     "data": {
      "image/png": "[encoded data removed]",
      "text/plain": [
       "<Figure size 600x400 with 1 Axes>"
      ]
     },
     "metadata": {},
     "output_type": "display_data"
    },
    {
     "name": "stdout",
     "output_type": "stream",
     "text": [
      "This plot shows the distribution of employees who left versus those who stayed.\n"
     ]
    }
   ],
   "source": [
    "plt.figure(figsize=(6, 4))\n",
    "sns.countplot(x='Attrition', data=df, palette='pastel')\n",
    "plt.title('Employee Attrition Distribution')\n",
    "plt.xlabel('Attrition Status')\n",
    "plt.ylabel('Count')\n",
    "plt.show()\n",
    "print(\"This plot shows the distribution of employees who left versus those who stayed.\")"
   ]
  },
  {
   "cell_type": "markdown",
   "id": "4caa8c64",
   "metadata": {
    "papermill": {
     "duration": 0.005418,
     "end_time": "2025-02-10T23:05:28.441868",
     "exception": false,
     "start_time": "2025-02-10T23:05:28.436450",
     "status": "completed"
    },
    "tags": []
   },
   "source": [
    "## 6. Encoding Target Variable"
   ]
  },
  {
   "cell_type": "code",
   "execution_count": 8,
   "id": "9018ae52",
   "metadata": {
    "execution": {
     "iopub.execute_input": "2025-02-10T23:05:28.454515Z",
     "iopub.status.busy": "2025-02-10T23:05:28.454148Z",
     "iopub.status.idle": "2025-02-10T23:05:28.458960Z",
     "shell.execute_reply": "2025-02-10T23:05:28.457734Z"
    },
    "papermill": {
     "duration": 0.013035,
     "end_time": "2025-02-10T23:05:28.460544",
     "exception": false,
     "start_time": "2025-02-10T23:05:28.447509",
     "status": "completed"
    },
    "tags": []
   },
   "outputs": [],
   "source": [
    "le = LabelEncoder()\n",
    "df['Attrition'] = le.fit_transform(df['Attrition'])"
   ]
  },
  {
   "cell_type": "markdown",
   "id": "c5e25321",
   "metadata": {
    "papermill": {
     "duration": 0.005344,
     "end_time": "2025-02-10T23:05:28.471815",
     "exception": false,
     "start_time": "2025-02-10T23:05:28.466471",
     "status": "completed"
    },
    "tags": []
   },
   "source": [
    "## 7. Dropping Irrelevant Columns"
   ]
  },
  {
   "cell_type": "code",
   "execution_count": 9,
   "id": "302ff542",
   "metadata": {
    "execution": {
     "iopub.execute_input": "2025-02-10T23:05:28.484155Z",
     "iopub.status.busy": "2025-02-10T23:05:28.483785Z",
     "iopub.status.idle": "2025-02-10T23:05:28.490888Z",
     "shell.execute_reply": "2025-02-10T23:05:28.490041Z"
    },
    "papermill": {
     "duration": 0.014916,
     "end_time": "2025-02-10T23:05:28.492229",
     "exception": false,
     "start_time": "2025-02-10T23:05:28.477313",
     "status": "completed"
    },
    "tags": []
   },
   "outputs": [],
   "source": [
    "df.drop(columns=['EmployeeNumber', 'Over18', 'EmployeeCount', 'StandardHours'], inplace=True)"
   ]
  },
  {
   "cell_type": "markdown",
   "id": "2ddee9ad",
   "metadata": {
    "papermill": {
     "duration": 0.005348,
     "end_time": "2025-02-10T23:05:28.503358",
     "exception": false,
     "start_time": "2025-02-10T23:05:28.498010",
     "status": "completed"
    },
    "tags": []
   },
   "source": [
    "## 8. Encoding Categorical Features"
   ]
  },
  {
   "cell_type": "code",
   "execution_count": 10,
   "id": "dac7a8dd",
   "metadata": {
    "execution": {
     "iopub.execute_input": "2025-02-10T23:05:28.515706Z",
     "iopub.status.busy": "2025-02-10T23:05:28.515385Z",
     "iopub.status.idle": "2025-02-10T23:05:28.526314Z",
     "shell.execute_reply": "2025-02-10T23:05:28.525193Z"
    },
    "papermill": {
     "duration": 0.019203,
     "end_time": "2025-02-10T23:05:28.528140",
     "exception": false,
     "start_time": "2025-02-10T23:05:28.508937",
     "status": "completed"
    },
    "tags": []
   },
   "outputs": [],
   "source": [
    "df = pd.get_dummies(df, drop_first=True)"
   ]
  },
  {
   "cell_type": "markdown",
   "id": "322a803c",
   "metadata": {
    "papermill": {
     "duration": 0.005335,
     "end_time": "2025-02-10T23:05:28.540311",
     "exception": false,
     "start_time": "2025-02-10T23:05:28.534976",
     "status": "completed"
    },
    "tags": []
   },
   "source": [
    "## 9. Splitting Data for Training & Testing"
   ]
  },
  {
   "cell_type": "code",
   "execution_count": 11,
   "id": "1760600c",
   "metadata": {
    "execution": {
     "iopub.execute_input": "2025-02-10T23:05:28.552896Z",
     "iopub.status.busy": "2025-02-10T23:05:28.552609Z",
     "iopub.status.idle": "2025-02-10T23:05:28.561317Z",
     "shell.execute_reply": "2025-02-10T23:05:28.559583Z"
    },
    "papermill": {
     "duration": 0.017062,
     "end_time": "2025-02-10T23:05:28.562883",
     "exception": false,
     "start_time": "2025-02-10T23:05:28.545821",
     "status": "completed"
    },
    "tags": []
   },
   "outputs": [],
   "source": [
    "X = df.drop(columns=['Attrition'])\n",
    "y = df['Attrition']\n",
    "X_train, X_test, y_train, y_test = train_test_split(X, y, test_size=0.2, random_state=42, stratify=y)"
   ]
  },
  {
   "cell_type": "markdown",
   "id": "bb33d400",
   "metadata": {
    "papermill": {
     "duration": 0.005371,
     "end_time": "2025-02-10T23:05:28.574246",
     "exception": false,
     "start_time": "2025-02-10T23:05:28.568875",
     "status": "completed"
    },
    "tags": []
   },
   "source": [
    "## 10. Normalization"
   ]
  },
  {
   "cell_type": "code",
   "execution_count": 12,
   "id": "72e5d989",
   "metadata": {
    "execution": {
     "iopub.execute_input": "2025-02-10T23:05:28.586824Z",
     "iopub.status.busy": "2025-02-10T23:05:28.586523Z",
     "iopub.status.idle": "2025-02-10T23:05:28.612905Z",
     "shell.execute_reply": "2025-02-10T23:05:28.612037Z"
    },
    "papermill": {
     "duration": 0.034503,
     "end_time": "2025-02-10T23:05:28.614596",
     "exception": false,
     "start_time": "2025-02-10T23:05:28.580093",
     "status": "completed"
    },
    "tags": []
   },
   "outputs": [],
   "source": [
    "scaler = StandardScaler()\n",
    "X_train = scaler.fit_transform(X_train)\n",
    "X_test = scaler.transform(X_test)"
   ]
  },
  {
   "cell_type": "markdown",
   "id": "8a9af596",
   "metadata": {
    "papermill": {
     "duration": 0.005463,
     "end_time": "2025-02-10T23:05:28.626609",
     "exception": false,
     "start_time": "2025-02-10T23:05:28.621146",
     "status": "completed"
    },
    "tags": []
   },
   "source": [
    "## 11. Model Training Using XGBoost"
   ]
  },
  {
   "cell_type": "code",
   "execution_count": 13,
   "id": "09bb846b",
   "metadata": {
    "execution": {
     "iopub.execute_input": "2025-02-10T23:05:28.638871Z",
     "iopub.status.busy": "2025-02-10T23:05:28.638548Z",
     "iopub.status.idle": "2025-02-10T23:05:28.798981Z",
     "shell.execute_reply": "2025-02-10T23:05:28.797852Z"
    },
    "papermill": {
     "duration": 0.168547,
     "end_time": "2025-02-10T23:05:28.800722",
     "exception": false,
     "start_time": "2025-02-10T23:05:28.632175",
     "status": "completed"
    },
    "tags": []
   },
   "outputs": [
    {
     "data": {
      "text/html": [
       "<style>#sk-container-id-1 {color: black;background-color: white;}#sk-container-id-1 pre{padding: 0;}#sk-container-id-1 div.sk-toggleable {background-color: white;}#sk-container-id-1 label.sk-toggleable__label {cursor: pointer;display: block;width: 100%;margin-bottom: 0;padding: 0.3em;box-sizing: border-box;text-align: center;}#sk-container-id-1 label.sk-toggleable__label-arrow:before {content: \"▸\";float: left;margin-right: 0.25em;color: #696969;}#sk-container-id-1 label.sk-toggleable__label-arrow:hover:before {color: black;}#sk-container-id-1 div.sk-estimator:hover label.sk-toggleable__label-arrow:before {color: black;}#sk-container-id-1 div.sk-toggleable__content {max-height: 0;max-width: 0;overflow: hidden;text-align: left;background-color: #f0f8ff;}#sk-container-id-1 div.sk-toggleable__content pre {margin: 0.2em;color: black;border-radius: 0.25em;background-color: #f0f8ff;}#sk-container-id-1 input.sk-toggleable__control:checked~div.sk-toggleable__content {max-height: 200px;max-width: 100%;overflow: auto;}#sk-container-id-1 input.sk-toggleable__control:checked~label.sk-toggleable__label-arrow:before {content: \"▾\";}#sk-container-id-1 div.sk-estimator input.sk-toggleable__control:checked~label.sk-toggleable__label {background-color: #d4ebff;}#sk-container-id-1 div.sk-label input.sk-toggleable__control:checked~label.sk-toggleable__label {background-color: #d4ebff;}#sk-container-id-1 input.sk-hidden--visually {border: 0;clip: rect(1px 1px 1px 1px);clip: rect(1px, 1px, 1px, 1px);height: 1px;margin: -1px;overflow: hidden;padding: 0;position: absolute;width: 1px;}#sk-container-id-1 div.sk-estimator {font-family: monospace;background-color: #f0f8ff;border: 1px dotted black;border-radius: 0.25em;box-sizing: border-box;margin-bottom: 0.5em;}#sk-container-id-1 div.sk-estimator:hover {background-color: #d4ebff;}#sk-container-id-1 div.sk-parallel-item::after {content: \"\";width: 100%;border-bottom: 1px solid gray;flex-grow: 1;}#sk-container-id-1 div.sk-label:hover label.sk-toggleable__label {background-color: #d4ebff;}#sk-container-id-1 div.sk-serial::before {content: \"\";position: absolute;border-left: 1px solid gray;box-sizing: border-box;top: 0;bottom: 0;left: 50%;z-index: 0;}#sk-container-id-1 div.sk-serial {display: flex;flex-direction: column;align-items: center;background-color: white;padding-right: 0.2em;padding-left: 0.2em;position: relative;}#sk-container-id-1 div.sk-item {position: relative;z-index: 1;}#sk-container-id-1 div.sk-parallel {display: flex;align-items: stretch;justify-content: center;background-color: white;position: relative;}#sk-container-id-1 div.sk-item::before, #sk-container-id-1 div.sk-parallel-item::before {content: \"\";position: absolute;border-left: 1px solid gray;box-sizing: border-box;top: 0;bottom: 0;left: 50%;z-index: -1;}#sk-container-id-1 div.sk-parallel-item {display: flex;flex-direction: column;z-index: 1;position: relative;background-color: white;}#sk-container-id-1 div.sk-parallel-item:first-child::after {align-self: flex-end;width: 50%;}#sk-container-id-1 div.sk-parallel-item:last-child::after {align-self: flex-start;width: 50%;}#sk-container-id-1 div.sk-parallel-item:only-child::after {width: 0;}#sk-container-id-1 div.sk-dashed-wrapped {border: 1px dashed gray;margin: 0 0.4em 0.5em 0.4em;box-sizing: border-box;padding-bottom: 0.4em;background-color: white;}#sk-container-id-1 div.sk-label label {font-family: monospace;font-weight: bold;display: inline-block;line-height: 1.2em;}#sk-container-id-1 div.sk-label-container {text-align: center;}#sk-container-id-1 div.sk-container {/* jupyter's `normalize.less` sets `[hidden] { display: none; }` but bootstrap.min.css set `[hidden] { display: none !important; }` so we also need the `!important` here to be able to override the default hidden behavior on the sphinx rendered scikit-learn.org. See: https://github.com/scikit-learn/scikit-learn/issues/21755 */display: inline-block !important;position: relative;}#sk-container-id-1 div.sk-text-repr-fallback {display: none;}</style><div id=\"sk-container-id-1\" class=\"sk-top-container\"><div class=\"sk-text-repr-fallback\"><pre>XGBClassifier(base_score=None, booster=None, callbacks=None,\n",
       "              colsample_bylevel=None, colsample_bynode=None,\n",
       "              colsample_bytree=None, device=None, early_stopping_rounds=None,\n",
       "              enable_categorical=False, eval_metric=None, feature_types=None,\n",
       "              gamma=None, grow_policy=None, importance_type=None,\n",
       "              interaction_constraints=None, learning_rate=0.1, max_bin=None,\n",
       "              max_cat_threshold=None, max_cat_to_onehot=None,\n",
       "              max_delta_step=None, max_depth=None, max_leaves=None,\n",
       "              min_child_weight=None, missing=nan, monotone_constraints=None,\n",
       "              multi_strategy=None, n_estimators=100, n_jobs=None,\n",
       "              num_parallel_tree=None, random_state=42, ...)</pre><b>In a Jupyter environment, please rerun this cell to show the HTML representation or trust the notebook. <br />On GitHub, the HTML representation is unable to render, please try loading this page with nbviewer.org.</b></div><div class=\"sk-container\" hidden><div class=\"sk-item\"><div class=\"sk-estimator sk-toggleable\"><input class=\"sk-toggleable__control sk-hidden--visually\" id=\"sk-estimator-id-1\" type=\"checkbox\" checked><label for=\"sk-estimator-id-1\" class=\"sk-toggleable__label sk-toggleable__label-arrow\">XGBClassifier</label><div class=\"sk-toggleable__content\"><pre>XGBClassifier(base_score=None, booster=None, callbacks=None,\n",
       "              colsample_bylevel=None, colsample_bynode=None,\n",
       "              colsample_bytree=None, device=None, early_stopping_rounds=None,\n",
       "              enable_categorical=False, eval_metric=None, feature_types=None,\n",
       "              gamma=None, grow_policy=None, importance_type=None,\n",
       "              interaction_constraints=None, learning_rate=0.1, max_bin=None,\n",
       "              max_cat_threshold=None, max_cat_to_onehot=None,\n",
       "              max_delta_step=None, max_depth=None, max_leaves=None,\n",
       "              min_child_weight=None, missing=nan, monotone_constraints=None,\n",
       "              multi_strategy=None, n_estimators=100, n_jobs=None,\n",
       "              num_parallel_tree=None, random_state=42, ...)</pre></div></div></div></div></div>"
      ],
      "text/plain": [
       "XGBClassifier(base_score=None, booster=None, callbacks=None,\n",
       "              colsample_bylevel=None, colsample_bynode=None,\n",
       "              colsample_bytree=None, device=None, early_stopping_rounds=None,\n",
       "              enable_categorical=False, eval_metric=None, feature_types=None,\n",
       "              gamma=None, grow_policy=None, importance_type=None,\n",
       "              interaction_constraints=None, learning_rate=0.1, max_bin=None,\n",
       "              max_cat_threshold=None, max_cat_to_onehot=None,\n",
       "              max_delta_step=None, max_depth=None, max_leaves=None,\n",
       "              min_child_weight=None, missing=nan, monotone_constraints=None,\n",
       "              multi_strategy=None, n_estimators=100, n_jobs=None,\n",
       "              num_parallel_tree=None, random_state=42, ...)"
      ]
     },
     "execution_count": 13,
     "metadata": {},
     "output_type": "execute_result"
    }
   ],
   "source": [
    "model = XGBClassifier(n_estimators=100, learning_rate=0.1, random_state=42)\n",
    "model.fit(X_train, y_train)"
   ]
  },
  {
   "cell_type": "code",
   "execution_count": 14,
   "id": "1c344e45",
   "metadata": {
    "execution": {
     "iopub.execute_input": "2025-02-10T23:05:28.815189Z",
     "iopub.status.busy": "2025-02-10T23:05:28.814877Z",
     "iopub.status.idle": "2025-02-10T23:05:28.822220Z",
     "shell.execute_reply": "2025-02-10T23:05:28.821441Z"
    },
    "papermill": {
     "duration": 0.016351,
     "end_time": "2025-02-10T23:05:28.824280",
     "exception": false,
     "start_time": "2025-02-10T23:05:28.807929",
     "status": "completed"
    },
    "tags": []
   },
   "outputs": [],
   "source": [
    "# Make predictions\n",
    "y_pred = model.predict(X_test)"
   ]
  },
  {
   "cell_type": "markdown",
   "id": "2f9ce4dc",
   "metadata": {
    "papermill": {
     "duration": 0.005742,
     "end_time": "2025-02-10T23:05:28.837034",
     "exception": false,
     "start_time": "2025-02-10T23:05:28.831292",
     "status": "completed"
    },
    "tags": []
   },
   "source": [
    "## 12. Model Evaluation"
   ]
  },
  {
   "cell_type": "code",
   "execution_count": 15,
   "id": "44395b79",
   "metadata": {
    "execution": {
     "iopub.execute_input": "2025-02-10T23:05:28.849783Z",
     "iopub.status.busy": "2025-02-10T23:05:28.849480Z",
     "iopub.status.idle": "2025-02-10T23:05:28.860999Z",
     "shell.execute_reply": "2025-02-10T23:05:28.859901Z"
    },
    "papermill": {
     "duration": 0.019595,
     "end_time": "2025-02-10T23:05:28.862445",
     "exception": false,
     "start_time": "2025-02-10T23:05:28.842850",
     "status": "completed"
    },
    "tags": []
   },
   "outputs": [
    {
     "name": "stdout",
     "output_type": "stream",
     "text": [
      "Accuracy: 0.8503401360544217\n",
      "              precision    recall  f1-score   support\n",
      "\n",
      "           0       0.87      0.96      0.92       247\n",
      "           1       0.57      0.26      0.35        47\n",
      "\n",
      "    accuracy                           0.85       294\n",
      "   macro avg       0.72      0.61      0.63       294\n",
      "weighted avg       0.82      0.85      0.83       294\n",
      "\n"
     ]
    }
   ],
   "source": [
    "print(\"Accuracy:\", accuracy_score(y_test, y_pred))\n",
    "print(classification_report(y_test, y_pred))"
   ]
  },
  {
   "cell_type": "markdown",
   "id": "c3726f21",
   "metadata": {
    "papermill": {
     "duration": 0.007067,
     "end_time": "2025-02-10T23:05:28.877035",
     "exception": false,
     "start_time": "2025-02-10T23:05:28.869968",
     "status": "completed"
    },
    "tags": []
   },
   "source": [
    "## 13. Confusion Matrix"
   ]
  },
  {
   "cell_type": "code",
   "execution_count": 16,
   "id": "593152b9",
   "metadata": {
    "execution": {
     "iopub.execute_input": "2025-02-10T23:05:28.890200Z",
     "iopub.status.busy": "2025-02-10T23:05:28.889902Z",
     "iopub.status.idle": "2025-02-10T23:05:29.027772Z",
     "shell.execute_reply": "2025-02-10T23:05:29.026480Z"
    },
    "papermill": {
     "duration": 0.146603,
     "end_time": "2025-02-10T23:05:29.029648",
     "exception": false,
     "start_time": "2025-02-10T23:05:28.883045",
     "status": "completed"
    },
    "tags": []
   },
   "outputs": [
    {
     "data": {
      "image/png": "[encoded data removed]",
      "text/plain": [
       "<Figure size 600x400 with 2 Axes>"
      ]
     },
     "metadata": {},
     "output_type": "display_data"
    },
    {
     "name": "stdout",
     "output_type": "stream",
     "text": [
      "The confusion matrix provides insights into the model's accuracy, showing true positives, true negatives, false positives, and false negatives.\n"
     ]
    }
   ],
   "source": [
    "plt.figure(figsize=(6, 4))\n",
    "conf_matrix = confusion_matrix(y_test, y_pred)\n",
    "sns.heatmap(conf_matrix, annot=True, fmt='d', cmap='Blues', xticklabels=['No Attrition', 'Attrition'], yticklabels=['No Attrition', 'Attrition'])\n",
    "plt.xlabel('Predicted')\n",
    "plt.ylabel('Actual')\n",
    "plt.title('Confusion Matrix')\n",
    "plt.show()\n",
    "print(\"The confusion matrix provides insights into the model's accuracy, showing true positives, true negatives, false positives, and false negatives.\")"
   ]
  },
  {
   "cell_type": "markdown",
   "id": "49bc92b5",
   "metadata": {
    "papermill": {
     "duration": 0.006036,
     "end_time": "2025-02-10T23:05:29.042711",
     "exception": false,
     "start_time": "2025-02-10T23:05:29.036675",
     "status": "completed"
    },
    "tags": []
   },
   "source": [
    "## 14. Feature Importance Analysis"
   ]
  },
  {
   "cell_type": "code",
   "execution_count": 17,
   "id": "87157924",
   "metadata": {
    "execution": {
     "iopub.execute_input": "2025-02-10T23:05:29.056787Z",
     "iopub.status.busy": "2025-02-10T23:05:29.056378Z",
     "iopub.status.idle": "2025-02-10T23:05:29.300987Z",
     "shell.execute_reply": "2025-02-10T23:05:29.300038Z"
    },
    "papermill": {
     "duration": 0.255211,
     "end_time": "2025-02-10T23:05:29.304258",
     "exception": false,
     "start_time": "2025-02-10T23:05:29.049047",
     "status": "completed"
    },
    "tags": []
   },
   "outputs": [
    {
     "data": {
      "image/png": "[encoded data removed]",
      "text/plain": [
       "<Figure size 800x500 with 1 Axes>"
      ]
     },
     "metadata": {},
     "output_type": "display_data"
    },
    {
     "name": "stdout",
     "output_type": "stream",
     "text": [
      "This bar chart highlights the most influential features affecting employee attrition.\n"
     ]
    }
   ],
   "source": [
    "feature_importances = pd.Series(model.feature_importances_, index=X.columns).nlargest(10)\n",
    "plt.figure(figsize=(8, 5))\n",
    "feature_importances.sort_values().plot(kind='barh', title='Top Features Influencing Employee Attrition', color='teal')\n",
    "plt.xlabel('Importance Score')\n",
    "plt.show()\n",
    "print(\"This bar chart highlights the most influential features affecting employee attrition.\")"
   ]
  },
  {
   "cell_type": "markdown",
   "id": "67661998",
   "metadata": {
    "papermill": {
     "duration": 0.008143,
     "end_time": "2025-02-10T23:05:29.320573",
     "exception": false,
     "start_time": "2025-02-10T23:05:29.312430",
     "status": "completed"
    },
    "tags": []
   },
   "source": [
    "## 15. Deeper Analysis of Attrition Factors\n",
    "\n",
    "### Monthly Income vs Attrition"
   ]
  },
  {
   "cell_type": "code",
   "execution_count": 18,
   "id": "c9e20a17",
   "metadata": {
    "execution": {
     "iopub.execute_input": "2025-02-10T23:05:29.336937Z",
     "iopub.status.busy": "2025-02-10T23:05:29.336639Z",
     "iopub.status.idle": "2025-02-10T23:05:29.469562Z",
     "shell.execute_reply": "2025-02-10T23:05:29.468743Z"
    },
    "papermill": {
     "duration": 0.142311,
     "end_time": "2025-02-10T23:05:29.470786",
     "exception": false,
     "start_time": "2025-02-10T23:05:29.328475",
     "status": "completed"
    },
    "tags": []
   },
   "outputs": [
    {
     "data": {
      "image/png": "[encoded data removed]",
      "text/plain": [
       "<Figure size 800x500 with 1 Axes>"
      ]
     },
     "metadata": {},
     "output_type": "display_data"
    },
    {
     "name": "stdout",
     "output_type": "stream",
     "text": [
      "This boxplot indicates whether income levels impact employee attrition. Lower salaries may be correlated with higher attrition rates.\n"
     ]
    }
   ],
   "source": [
    "# Deeper Analysis: Understanding Attrition Factors\n",
    "plt.figure(figsize=(8, 5))\n",
    "sns.boxplot(x='Attrition', y='MonthlyIncome', data=df, palette='coolwarm')\n",
    "plt.title('Monthly Income vs Attrition')\n",
    "plt.show()\n",
    "print(\"This boxplot indicates whether income levels impact employee attrition. Lower salaries may be correlated with higher attrition rates.\")"
   ]
  },
  {
   "cell_type": "markdown",
   "id": "94aa9807",
   "metadata": {
    "papermill": {
     "duration": 0.007295,
     "end_time": "2025-02-10T23:05:29.485907",
     "exception": false,
     "start_time": "2025-02-10T23:05:29.478612",
     "status": "completed"
    },
    "tags": []
   },
   "source": [
    "### Job Satisfaction vs Attrition"
   ]
  },
  {
   "cell_type": "code",
   "execution_count": 19,
   "id": "9fe7de23",
   "metadata": {
    "execution": {
     "iopub.execute_input": "2025-02-10T23:05:29.502313Z",
     "iopub.status.busy": "2025-02-10T23:05:29.501983Z",
     "iopub.status.idle": "2025-02-10T23:05:29.625832Z",
     "shell.execute_reply": "2025-02-10T23:05:29.624582Z"
    },
    "papermill": {
     "duration": 0.133491,
     "end_time": "2025-02-10T23:05:29.627122",
     "exception": false,
     "start_time": "2025-02-10T23:05:29.493631",
     "status": "completed"
    },
    "tags": []
   },
   "outputs": [
    {
     "data": {
      "image/png": "[encoded data removed]",
      "text/plain": [
       "<Figure size 800x500 with 1 Axes>"
      ]
     },
     "metadata": {},
     "output_type": "display_data"
    },
    {
     "name": "stdout",
     "output_type": "stream",
     "text": [
      "This plot helps determine whether lower job satisfaction leads to higher attrition rates.\n"
     ]
    }
   ],
   "source": [
    "plt.figure(figsize=(8, 5))\n",
    "sns.boxplot(x='Attrition', y='JobSatisfaction', data=df, palette='coolwarm')\n",
    "plt.title('Job Satisfaction vs Attrition')\n",
    "plt.show()\n",
    "print(\"This plot helps determine whether lower job satisfaction leads to higher attrition rates.\")"
   ]
  }
 ],
 "metadata": {
  "kaggle": {
   "accelerator": "none",
   "dataSources": [
    {
     "datasetId": 6642691,
     "sourceId": 10716775,
     "sourceType": "datasetVersion"
    }
   ],
   "dockerImageVersionId": 30886,
   "isGpuEnabled": false,
   "isInternetEnabled": true,
   "language": "python",
   "sourceType": "notebook"
  },
  "kernelspec": {
   "display_name": "Python 3",
   "language": "python",
   "name": "python3"
  },
  "language_info": {
   "codemirror_mode": {
    "name": "ipython",
    "version": 3
   },
   "file_extension": ".py",
   "mimetype": "text/x-python",
   "name": "python",
   "nbconvert_exporter": "python",
   "pygments_lexer": "ipython3",
   "version": "3.10.12"
  },
  "papermill": {
   "default_parameters": {},
   "duration": 8.488159,
   "end_time": "2025-02-10T23:05:30.354672",
   "environment_variables": {},
   "exception": null,
   "input_path": "__notebook__.ipynb",
   "output_path": "__notebook__.ipynb",
   "parameters": {},
   "start_time": "2025-02-10T23:05:21.866513",
   "version": "2.6.0"
  }
 },
 "nbformat": 4,
 "nbformat_minor": 5
}
